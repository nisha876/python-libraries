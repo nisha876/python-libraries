{
 "cells": [
  {
   "cell_type": "code",
   "execution_count": 104,
   "id": "0236d5a2",
   "metadata": {},
   "outputs": [],
   "source": [
    "import numpy as np"
   ]
  },
  {
   "cell_type": "code",
   "execution_count": 2,
   "id": "205a5ec3",
   "metadata": {},
   "outputs": [],
   "source": [
    "python_list = [3,4,8,9,10]"
   ]
  },
  {
   "cell_type": "code",
   "execution_count": 3,
   "id": "da394631",
   "metadata": {},
   "outputs": [
    {
     "data": {
      "text/plain": [
       "[3, 4, 8, 9, 10]"
      ]
     },
     "execution_count": 3,
     "metadata": {},
     "output_type": "execute_result"
    }
   ],
   "source": [
    "python_list"
   ]
  },
  {
   "cell_type": "code",
   "execution_count": 10,
   "id": "c9b750e5",
   "metadata": {},
   "outputs": [],
   "source": [
    "python_array=np.array(python_list)"
   ]
  },
  {
   "cell_type": "code",
   "execution_count": 11,
   "id": "d25058f3",
   "metadata": {},
   "outputs": [
    {
     "data": {
      "text/plain": [
       "1"
      ]
     },
     "execution_count": 11,
     "metadata": {},
     "output_type": "execute_result"
    }
   ],
   "source": [
    "len(python_array.shape)"
   ]
  },
  {
   "cell_type": "code",
   "execution_count": 12,
   "id": "878265c8",
   "metadata": {},
   "outputs": [
    {
     "data": {
      "text/plain": [
       "(5,)"
      ]
     },
     "execution_count": 12,
     "metadata": {},
     "output_type": "execute_result"
    }
   ],
   "source": [
    "python_array.shape"
   ]
  },
  {
   "cell_type": "code",
   "execution_count": 13,
   "id": "65909c47",
   "metadata": {},
   "outputs": [],
   "source": [
    "python_list_list= [[1,5,7], [10,8,6]]"
   ]
  },
  {
   "cell_type": "code",
   "execution_count": 14,
   "id": "c4715562",
   "metadata": {},
   "outputs": [
    {
     "data": {
      "text/plain": [
       "[[1, 5, 7], [10, 8, 6]]"
      ]
     },
     "execution_count": 14,
     "metadata": {},
     "output_type": "execute_result"
    }
   ],
   "source": [
    "python_list_list"
   ]
  },
  {
   "cell_type": "code",
   "execution_count": 15,
   "id": "6ac4a4cb",
   "metadata": {},
   "outputs": [],
   "source": [
    "python_array1 = np.array(python_list_list)"
   ]
  },
  {
   "cell_type": "code",
   "execution_count": 16,
   "id": "990c2f0c",
   "metadata": {},
   "outputs": [
    {
     "data": {
      "text/plain": [
       "(2, 3)"
      ]
     },
     "execution_count": 16,
     "metadata": {},
     "output_type": "execute_result"
    }
   ],
   "source": [
    "python_array1.shape"
   ]
  },
  {
   "cell_type": "code",
   "execution_count": 17,
   "id": "8b182657",
   "metadata": {},
   "outputs": [
    {
     "data": {
      "text/plain": [
       "2"
      ]
     },
     "execution_count": 17,
     "metadata": {},
     "output_type": "execute_result"
    }
   ],
   "source": [
    "len(python_array1)"
   ]
  },
  {
   "cell_type": "code",
   "execution_count": 18,
   "id": "2971102c",
   "metadata": {},
   "outputs": [
    {
     "data": {
      "text/plain": [
       "array([[ 1,  5,  7],\n",
       "       [10,  8,  6]])"
      ]
     },
     "execution_count": 18,
     "metadata": {},
     "output_type": "execute_result"
    }
   ],
   "source": [
    "python_array1"
   ]
  },
  {
   "cell_type": "code",
   "execution_count": 19,
   "id": "5596664d",
   "metadata": {},
   "outputs": [
    {
     "data": {
      "text/plain": [
       "[0, 1, 2, 3, 4]"
      ]
     },
     "execution_count": 19,
     "metadata": {},
     "output_type": "execute_result"
    }
   ],
   "source": [
    "list(range(5))"
   ]
  },
  {
   "cell_type": "code",
   "execution_count": 20,
   "id": "1dd07a39",
   "metadata": {},
   "outputs": [
    {
     "data": {
      "text/plain": [
       "array([0, 1, 2, 3, 4])"
      ]
     },
     "execution_count": 20,
     "metadata": {},
     "output_type": "execute_result"
    }
   ],
   "source": [
    "np.arange(5)"
   ]
  },
  {
   "cell_type": "code",
   "execution_count": 23,
   "id": "7692f61a",
   "metadata": {},
   "outputs": [
    {
     "data": {
      "text/plain": [
       "array([[0., 0.],\n",
       "       [0., 0.]])"
      ]
     },
     "execution_count": 23,
     "metadata": {},
     "output_type": "execute_result"
    }
   ],
   "source": [
    "np.zeros((2,2))"
   ]
  },
  {
   "cell_type": "code",
   "execution_count": 24,
   "id": "53f06291",
   "metadata": {},
   "outputs": [
    {
     "data": {
      "text/plain": [
       "<module 'numpy.random' from 'C:\\\\Users\\\\hp\\\\anaconda3\\\\lib\\\\site-packages\\\\numpy\\\\random\\\\__init__.py'>"
      ]
     },
     "execution_count": 24,
     "metadata": {},
     "output_type": "execute_result"
    }
   ],
   "source": [
    "np.random"
   ]
  },
  {
   "cell_type": "code",
   "execution_count": 26,
   "id": "eaf6d640",
   "metadata": {},
   "outputs": [
    {
     "data": {
      "text/plain": [
       "1"
      ]
     },
     "execution_count": 26,
     "metadata": {},
     "output_type": "execute_result"
    }
   ],
   "source": [
    "np.random.randint(5)"
   ]
  },
  {
   "cell_type": "code",
   "execution_count": 30,
   "id": "7ad564e4",
   "metadata": {},
   "outputs": [
    {
     "data": {
      "text/plain": [
       "array([[4, 1],\n",
       "       [3, 4]])"
      ]
     },
     "execution_count": 30,
     "metadata": {},
     "output_type": "execute_result"
    }
   ],
   "source": [
    "np.random.randint(5, size=(2,2))"
   ]
  },
  {
   "cell_type": "code",
   "execution_count": 31,
   "id": "c0548f3e",
   "metadata": {},
   "outputs": [],
   "source": [
    "arr= np.random.rand(5,5)"
   ]
  },
  {
   "cell_type": "code",
   "execution_count": 32,
   "id": "3d491a0a",
   "metadata": {},
   "outputs": [
    {
     "data": {
      "text/plain": [
       "array([[0.01789034, 0.8450996 , 0.8454875 , 0.82064559, 0.75190797],\n",
       "       [0.02722988, 0.29804526, 0.01936764, 0.8293007 , 0.66587012],\n",
       "       [0.71117188, 0.17196384, 0.00686814, 0.02611708, 0.46409984],\n",
       "       [0.27249713, 0.93289517, 0.48097813, 0.70050954, 0.61873767],\n",
       "       [0.77873528, 0.1438765 , 0.97120145, 0.52620383, 0.32339355]])"
      ]
     },
     "execution_count": 32,
     "metadata": {},
     "output_type": "execute_result"
    }
   ],
   "source": [
    "arr"
   ]
  },
  {
   "cell_type": "code",
   "execution_count": 33,
   "id": "ba5ad201",
   "metadata": {},
   "outputs": [
    {
     "data": {
      "text/plain": [
       "(5, 5)"
      ]
     },
     "execution_count": 33,
     "metadata": {},
     "output_type": "execute_result"
    }
   ],
   "source": [
    "arr.shape"
   ]
  },
  {
   "cell_type": "code",
   "execution_count": 34,
   "id": "71fcf283",
   "metadata": {},
   "outputs": [
    {
     "data": {
      "text/plain": [
       "dtype('float64')"
      ]
     },
     "execution_count": 34,
     "metadata": {},
     "output_type": "execute_result"
    }
   ],
   "source": [
    "arr.dtype"
   ]
  },
  {
   "cell_type": "code",
   "execution_count": 35,
   "id": "2942b929",
   "metadata": {},
   "outputs": [
    {
     "data": {
      "text/plain": [
       "array([[0.01789034, 0.8450996 , 0.8454875 , 0.82064559, 0.75190797],\n",
       "       [0.02722988, 0.29804526, 0.01936764, 0.8293007 , 0.66587012],\n",
       "       [0.71117188, 0.17196384, 0.00686814, 0.02611708, 0.46409984],\n",
       "       [0.27249713, 0.93289517, 0.48097813, 0.70050954, 0.61873767]])"
      ]
     },
     "execution_count": 35,
     "metadata": {},
     "output_type": "execute_result"
    }
   ],
   "source": [
    "arr[:4]"
   ]
  },
  {
   "cell_type": "code",
   "execution_count": 36,
   "id": "e611c13c",
   "metadata": {},
   "outputs": [
    {
     "data": {
      "text/plain": [
       "array([[0.77873528, 0.1438765 , 0.97120145, 0.52620383, 0.32339355]])"
      ]
     },
     "execution_count": 36,
     "metadata": {},
     "output_type": "execute_result"
    }
   ],
   "source": [
    "arr[4:]"
   ]
  },
  {
   "cell_type": "code",
   "execution_count": 37,
   "id": "add97ff9",
   "metadata": {},
   "outputs": [
    {
     "data": {
      "text/plain": [
       "array([[0.71117188, 0.17196384, 0.00686814, 0.02611708, 0.46409984],\n",
       "       [0.27249713, 0.93289517, 0.48097813, 0.70050954, 0.61873767],\n",
       "       [0.77873528, 0.1438765 , 0.97120145, 0.52620383, 0.32339355]])"
      ]
     },
     "execution_count": 37,
     "metadata": {},
     "output_type": "execute_result"
    }
   ],
   "source": [
    "arr[2:5]"
   ]
  },
  {
   "cell_type": "code",
   "execution_count": 38,
   "id": "7b0dedab",
   "metadata": {},
   "outputs": [
    {
     "data": {
      "text/plain": [
       "array([[0.01789034, 0.8450996 , 0.8454875 , 0.82064559],\n",
       "       [0.02722988, 0.29804526, 0.01936764, 0.8293007 ],\n",
       "       [0.71117188, 0.17196384, 0.00686814, 0.02611708],\n",
       "       [0.27249713, 0.93289517, 0.48097813, 0.70050954],\n",
       "       [0.77873528, 0.1438765 , 0.97120145, 0.52620383]])"
      ]
     },
     "execution_count": 38,
     "metadata": {},
     "output_type": "execute_result"
    }
   ],
   "source": [
    "arr[:, :4]"
   ]
  },
  {
   "cell_type": "code",
   "execution_count": 39,
   "id": "a8caef9b",
   "metadata": {},
   "outputs": [
    {
     "data": {
      "text/plain": [
       "0.2980452582864882"
      ]
     },
     "execution_count": 39,
     "metadata": {},
     "output_type": "execute_result"
    }
   ],
   "source": [
    "arr[1,1]"
   ]
  },
  {
   "cell_type": "code",
   "execution_count": 40,
   "id": "796925b9",
   "metadata": {},
   "outputs": [
    {
     "data": {
      "text/plain": [
       "array([[0.01789034, 0.8450996 , 0.8454875 , 0.82064559, 0.75190797],\n",
       "       [0.02722988, 0.29804526, 0.01936764, 0.8293007 , 0.66587012],\n",
       "       [0.71117188, 0.17196384, 0.00686814, 0.02611708, 0.46409984]])"
      ]
     },
     "execution_count": 40,
     "metadata": {},
     "output_type": "execute_result"
    }
   ],
   "source": [
    "arr[:-2]"
   ]
  },
  {
   "cell_type": "code",
   "execution_count": 46,
   "id": "92a1545b",
   "metadata": {},
   "outputs": [],
   "source": [
    "int_arr = np.random.randint(5,size=(6,8))"
   ]
  },
  {
   "cell_type": "code",
   "execution_count": 47,
   "id": "93ea4dd4",
   "metadata": {},
   "outputs": [
    {
     "data": {
      "text/plain": [
       "array([[1, 4, 0, 2, 0, 1, 2, 3],\n",
       "       [2, 2, 0, 4, 1, 0, 0, 2],\n",
       "       [4, 4, 2, 2, 1, 0, 4, 1],\n",
       "       [1, 3, 1, 2, 1, 2, 0, 4],\n",
       "       [3, 4, 0, 4, 4, 4, 3, 3],\n",
       "       [2, 1, 3, 2, 1, 0, 3, 1]])"
      ]
     },
     "execution_count": 47,
     "metadata": {},
     "output_type": "execute_result"
    }
   ],
   "source": [
    "int_arr"
   ]
  },
  {
   "cell_type": "code",
   "execution_count": 48,
   "id": "76f463e0",
   "metadata": {},
   "outputs": [],
   "source": [
    "int_arr_0 = int_arr[0]"
   ]
  },
  {
   "cell_type": "code",
   "execution_count": 49,
   "id": "58142614",
   "metadata": {},
   "outputs": [
    {
     "data": {
      "text/plain": [
       "array([1, 4, 0, 2, 0, 1, 2, 3])"
      ]
     },
     "execution_count": 49,
     "metadata": {},
     "output_type": "execute_result"
    }
   ],
   "source": [
    "int_arr_0"
   ]
  },
  {
   "cell_type": "code",
   "execution_count": 50,
   "id": "41cecedc",
   "metadata": {},
   "outputs": [
    {
     "data": {
      "text/plain": [
       "array([False, False,  True, False,  True, False, False, False])"
      ]
     },
     "execution_count": 50,
     "metadata": {},
     "output_type": "execute_result"
    }
   ],
   "source": [
    "int_arr_0 == 0"
   ]
  },
  {
   "cell_type": "code",
   "execution_count": 51,
   "id": "48ed14d2",
   "metadata": {},
   "outputs": [
    {
     "data": {
      "text/plain": [
       "array([ True, False, False, False, False,  True, False, False])"
      ]
     },
     "execution_count": 51,
     "metadata": {},
     "output_type": "execute_result"
    }
   ],
   "source": [
    "int_arr_0 == 1"
   ]
  },
  {
   "cell_type": "code",
   "execution_count": 52,
   "id": "eabde656",
   "metadata": {},
   "outputs": [
    {
     "data": {
      "text/plain": [
       "array([False, False, False,  True, False, False,  True, False])"
      ]
     },
     "execution_count": 52,
     "metadata": {},
     "output_type": "execute_result"
    }
   ],
   "source": [
    "int_arr_0 == 2"
   ]
  },
  {
   "cell_type": "code",
   "execution_count": 60,
   "id": "c16e8d63",
   "metadata": {},
   "outputs": [],
   "source": [
    "marks = [[4,6,8],[1,3,7],[0,8,5]]"
   ]
  },
  {
   "cell_type": "code",
   "execution_count": 61,
   "id": "af848680",
   "metadata": {},
   "outputs": [
    {
     "data": {
      "text/plain": [
       "[4, 6, 8]"
      ]
     },
     "execution_count": 61,
     "metadata": {},
     "output_type": "execute_result"
    }
   ],
   "source": [
    "marks[0]"
   ]
  },
  {
   "cell_type": "code",
   "execution_count": 62,
   "id": "1c86c18a",
   "metadata": {},
   "outputs": [
    {
     "data": {
      "text/plain": [
       "(4, 1, 0)"
      ]
     },
     "execution_count": 62,
     "metadata": {},
     "output_type": "execute_result"
    }
   ],
   "source": [
    "marks[0][0], marks[1][0], marks[2][0]"
   ]
  },
  {
   "cell_type": "code",
   "execution_count": 63,
   "id": "eb37e3f2",
   "metadata": {},
   "outputs": [],
   "source": [
    "marks_transpose = []\n",
    "for i in range(len(marks[0])):\n",
    "    marks_transpose.append([])\n",
    "    for j in range(len(marks)):\n",
    "        marks_transpose[i].append(marks[j][i])"
   ]
  },
  {
   "cell_type": "code",
   "execution_count": 64,
   "id": "c5948476",
   "metadata": {},
   "outputs": [
    {
     "data": {
      "text/plain": [
       "[[4, 1, 0], [6, 3, 8], [8, 7, 5]]"
      ]
     },
     "execution_count": 64,
     "metadata": {},
     "output_type": "execute_result"
    }
   ],
   "source": [
    "marks_transpose"
   ]
  },
  {
   "cell_type": "code",
   "execution_count": 65,
   "id": "8702bb8f",
   "metadata": {},
   "outputs": [],
   "source": [
    "marks_arr = np.array(marks)"
   ]
  },
  {
   "cell_type": "code",
   "execution_count": 66,
   "id": "1c70b1bb",
   "metadata": {},
   "outputs": [
    {
     "data": {
      "text/plain": [
       "array([[4, 6, 8],\n",
       "       [1, 3, 7],\n",
       "       [0, 8, 5]])"
      ]
     },
     "execution_count": 66,
     "metadata": {},
     "output_type": "execute_result"
    }
   ],
   "source": [
    "marks_arr"
   ]
  },
  {
   "cell_type": "code",
   "execution_count": 67,
   "id": "44d3e885",
   "metadata": {},
   "outputs": [
    {
     "data": {
      "text/plain": [
       "array([[4, 1, 0],\n",
       "       [6, 3, 8],\n",
       "       [8, 7, 5]])"
      ]
     },
     "execution_count": 67,
     "metadata": {},
     "output_type": "execute_result"
    }
   ],
   "source": [
    "marks_arr.T"
   ]
  },
  {
   "cell_type": "code",
   "execution_count": 68,
   "id": "c0c723ca",
   "metadata": {},
   "outputs": [
    {
     "data": {
      "text/plain": [
       "array([ 5, 17, 20])"
      ]
     },
     "execution_count": 68,
     "metadata": {},
     "output_type": "execute_result"
    }
   ],
   "source": [
    "marks_arr.sum(0)"
   ]
  },
  {
   "cell_type": "code",
   "execution_count": 69,
   "id": "8c06acfb",
   "metadata": {},
   "outputs": [
    {
     "data": {
      "text/plain": [
       "array([[4, 6, 8],\n",
       "       [1, 3, 7],\n",
       "       [0, 8, 5]])"
      ]
     },
     "execution_count": 69,
     "metadata": {},
     "output_type": "execute_result"
    }
   ],
   "source": [
    "marks_arr"
   ]
  },
  {
   "cell_type": "code",
   "execution_count": 74,
   "id": "dd6a88a1",
   "metadata": {},
   "outputs": [],
   "source": [
    "grace_marks = np.array([[1,2,3]])"
   ]
  },
  {
   "cell_type": "code",
   "execution_count": 77,
   "id": "f7aeea85",
   "metadata": {},
   "outputs": [
    {
     "data": {
      "text/plain": [
       "array([[1],\n",
       "       [2],\n",
       "       [3]])"
      ]
     },
     "execution_count": 77,
     "metadata": {},
     "output_type": "execute_result"
    }
   ],
   "source": [
    "grace_marks.T"
   ]
  },
  {
   "cell_type": "code",
   "execution_count": 76,
   "id": "5a4d08fa",
   "metadata": {},
   "outputs": [
    {
     "data": {
      "text/plain": [
       "array([[ 5,  8, 11],\n",
       "       [ 2,  5, 10],\n",
       "       [ 1, 10,  8]])"
      ]
     },
     "execution_count": 76,
     "metadata": {},
     "output_type": "execute_result"
    }
   ],
   "source": [
    "marks_arr+grace_marks"
   ]
  },
  {
   "cell_type": "code",
   "execution_count": 92,
   "id": "daa69790",
   "metadata": {},
   "outputs": [
    {
     "data": {
      "text/plain": [
       "[[4, 6, 8], [1, 3, 7], [0, 8, 5]]"
      ]
     },
     "execution_count": 92,
     "metadata": {},
     "output_type": "execute_result"
    }
   ],
   "source": [
    "marks"
   ]
  },
  {
   "cell_type": "code",
   "execution_count": 108,
   "id": "28603259",
   "metadata": {},
   "outputs": [],
   "source": [
    "weight_list =[[0.4], [0.2], [0.32]]"
   ]
  },
  {
   "cell_type": "code",
   "execution_count": 109,
   "id": "83710bb6",
   "metadata": {},
   "outputs": [
    {
     "ename": "IndexError",
     "evalue": "list index out of range",
     "output_type": "error",
     "traceback": [
      "\u001b[1;31m---------------------------------------------------------------------------\u001b[0m",
      "\u001b[1;31mIndexError\u001b[0m                                Traceback (most recent call last)",
      "\u001b[1;32m~\\AppData\\Local\\Temp/ipykernel_5696/1540921406.py\u001b[0m in \u001b[0;36m<module>\u001b[1;34m\u001b[0m\n\u001b[0;32m      4\u001b[0m         \u001b[0mcurr_sum\u001b[0m\u001b[1;33m=\u001b[0m\u001b[1;36m0\u001b[0m\u001b[1;33m\u001b[0m\u001b[1;33m\u001b[0m\u001b[0m\n\u001b[0;32m      5\u001b[0m     \u001b[1;32mfor\u001b[0m \u001b[0mk\u001b[0m \u001b[1;32min\u001b[0m \u001b[0mrange\u001b[0m\u001b[1;33m(\u001b[0m\u001b[0mlen\u001b[0m\u001b[1;33m(\u001b[0m\u001b[0mmarks\u001b[0m\u001b[1;33m[\u001b[0m\u001b[0mi\u001b[0m\u001b[1;33m]\u001b[0m\u001b[1;33m)\u001b[0m\u001b[1;33m)\u001b[0m\u001b[1;33m:\u001b[0m\u001b[1;33m\u001b[0m\u001b[1;33m\u001b[0m\u001b[0m\n\u001b[1;32m----> 6\u001b[1;33m         \u001b[0mcurr_sum\u001b[0m \u001b[1;33m+=\u001b[0m \u001b[0mmarks\u001b[0m\u001b[1;33m[\u001b[0m\u001b[0mi\u001b[0m\u001b[1;33m]\u001b[0m\u001b[1;33m[\u001b[0m\u001b[0mk\u001b[0m\u001b[1;33m]\u001b[0m\u001b[1;33m*\u001b[0m \u001b[0mweight_list\u001b[0m\u001b[1;33m[\u001b[0m\u001b[0mj\u001b[0m\u001b[1;33m]\u001b[0m\u001b[1;33m[\u001b[0m\u001b[0mk\u001b[0m\u001b[1;33m]\u001b[0m\u001b[1;33m\u001b[0m\u001b[1;33m\u001b[0m\u001b[0m\n\u001b[0m\u001b[0;32m      7\u001b[0m     \u001b[0mresults\u001b[0m\u001b[1;33m.\u001b[0m\u001b[0mappend\u001b[0m\u001b[1;33m(\u001b[0m\u001b[0mcurr_sum\u001b[0m\u001b[1;33m)\u001b[0m\u001b[1;33m\u001b[0m\u001b[1;33m\u001b[0m\u001b[0m\n",
      "\u001b[1;31mIndexError\u001b[0m: list index out of range"
     ]
    }
   ],
   "source": [
    "results=[]\n",
    "for i in range(len(marks)):\n",
    "    for j in range(len(weight_list)):\n",
    "        curr_sum=0\n",
    "    for k in range(len(marks[i])):\n",
    "        curr_sum += marks[i][k]* weight_list[j][k]\n",
    "    results.append(curr_sum)"
   ]
  },
  {
   "cell_type": "code",
   "execution_count": 110,
   "id": "7e78c1d5",
   "metadata": {},
   "outputs": [
    {
     "data": {
      "text/plain": [
       "[]"
      ]
     },
     "execution_count": 110,
     "metadata": {},
     "output_type": "execute_result"
    }
   ],
   "source": [
    "results"
   ]
  },
  {
   "cell_type": "code",
   "execution_count": 111,
   "id": "5214490b",
   "metadata": {},
   "outputs": [],
   "source": [
    "weight_arr = np.array(weight_list)"
   ]
  },
  {
   "cell_type": "code",
   "execution_count": 112,
   "id": "7a522d22",
   "metadata": {},
   "outputs": [
    {
     "data": {
      "text/plain": [
       "(3, 1)"
      ]
     },
     "execution_count": 112,
     "metadata": {},
     "output_type": "execute_result"
    }
   ],
   "source": [
    "weight_arr.shape"
   ]
  },
  {
   "cell_type": "code",
   "execution_count": 114,
   "id": "b82e5449",
   "metadata": {},
   "outputs": [],
   "source": [
    "a=marks_arr @ weight_arr"
   ]
  },
  {
   "cell_type": "code",
   "execution_count": 119,
   "id": "9bffb1ed",
   "metadata": {},
   "outputs": [
    {
     "data": {
      "text/plain": [
       "(3, 1)"
      ]
     },
     "execution_count": 119,
     "metadata": {},
     "output_type": "execute_result"
    }
   ],
   "source": [
    "a.shape"
   ]
  },
  {
   "cell_type": "code",
   "execution_count": null,
   "id": "3c043cba",
   "metadata": {},
   "outputs": [],
   "source": []
  }
 ],
 "metadata": {
  "kernelspec": {
   "display_name": "Python 3 (ipykernel)",
   "language": "python",
   "name": "python3"
  },
  "language_info": {
   "codemirror_mode": {
    "name": "ipython",
    "version": 3
   },
   "file_extension": ".py",
   "mimetype": "text/x-python",
   "name": "python",
   "nbconvert_exporter": "python",
   "pygments_lexer": "ipython3",
   "version": "3.9.7"
  }
 },
 "nbformat": 4,
 "nbformat_minor": 5
}
